{
 "cells": [
  {
   "cell_type": "code",
   "execution_count": 23,
   "id": "38516084",
   "metadata": {},
   "outputs": [],
   "source": [
    "y_true = [1,1,0,0,1,0,0,0,1,1]\n",
    "y_pred = [1,1,1,0,0,0,0,0,1,1]\n"
   ]
  },
  {
   "cell_type": "code",
   "execution_count": 24,
   "id": "844860c1",
   "metadata": {},
   "outputs": [
    {
     "data": {
      "text/plain": [
       "80.0"
      ]
     },
     "execution_count": 24,
     "metadata": {},
     "output_type": "execute_result"
    }
   ],
   "source": [
    "from sklearn.metrics import accuracy_score\n",
    "acc = accuracy_score(y_true,y_pred)\n",
    "acc *100"
   ]
  },
  {
   "cell_type": "code",
   "execution_count": 25,
   "id": "638136d4",
   "metadata": {},
   "outputs": [
    {
     "data": {
      "text/plain": [
       "80.0"
      ]
     },
     "execution_count": 25,
     "metadata": {},
     "output_type": "execute_result"
    }
   ],
   "source": [
    "from sklearn.metrics import precision_score\n",
    "\n",
    "pr = precision_score(y_true,y_pred)\n",
    "pr*100"
   ]
  },
  {
   "cell_type": "code",
   "execution_count": 26,
   "id": "a9689c4c",
   "metadata": {},
   "outputs": [
    {
     "data": {
      "text/plain": [
       "80.0"
      ]
     },
     "execution_count": 26,
     "metadata": {},
     "output_type": "execute_result"
    }
   ],
   "source": [
    "from sklearn.metrics import recall_score\n",
    "r = recall_score(y_true,y_pred)\n",
    "r*100"
   ]
  },
  {
   "cell_type": "code",
   "execution_count": null,
   "id": "b7793e95",
   "metadata": {},
   "outputs": [],
   "source": []
  }
 ],
 "metadata": {
  "kernelspec": {
   "display_name": "Python 3",
   "language": "python",
   "name": "python3"
  },
  "language_info": {
   "codemirror_mode": {
    "name": "ipython",
    "version": 3
   },
   "file_extension": ".py",
   "mimetype": "text/x-python",
   "name": "python",
   "nbconvert_exporter": "python",
   "pygments_lexer": "ipython3",
   "version": "3.12.10"
  }
 },
 "nbformat": 4,
 "nbformat_minor": 5
}
